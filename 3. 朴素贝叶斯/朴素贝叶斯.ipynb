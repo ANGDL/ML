{
 "cells": [
  {
   "cell_type": "markdown",
   "metadata": {},
   "source": [
    "## 先验概率极大似然估计的推导\n",
    "[参考](https://www.zhihu.com/question/33959624/answer/93958363)\n",
    "1. 令$P(Y=c_k) = \\theta_k$, 则，$\\sum_{k=1}^K \\theta_k = 1$\n",
    "   \n",
    "   \n",
    "2. 则最大似然函数 $L(\\theta_k) = \\prod_{k=1}^K \\theta^{N_k}$, 对应的对数形式：$L(\\theta_k) = \\sum_{k=1}^K {N_k} \\cdot In(\\theta)$，$N_k$是$Y=c_k$出现的次数。\n",
    "  \n",
    "  \n",
    "3. 求根据拉格朗日乘子法，约束条件为 $\\sum_{k=1}^K \\theta_k-1 = 0$，求$L(\\theta_k)$的最大值，对下面式子求导，并令其导数为零。\n",
    "$$\n",
    "\\\\\n",
    "L(\\theta, \\lambda) = \\sum_{k=1}^K {N_k} In(\\theta) - \\lambda (\\sum_{k=1}^K {N_k} \\theta_k-1)\\\\\n",
    "$$\n",
    "\n",
    "\n",
    "4. 根据3求解得：$\\frac{N_k}{\\theta_k} + \\lambda = 0$，\n",
    "即：\n",
    "$\n",
    "\\theta_k = - \\frac{N_k}{\\lambda}\n",
    "$\n",
    "\n",
    "\n",
    "5. 由于 $\\sum_{k=1}^K \\theta_k = 1$，即：$\\theta_1 + \\theta_2 + ... + \\theta_k = 1$\n",
    "\n",
    "\n",
    "6. 把 $\\theta_k = - \\frac{N_k}{\\lambda}$ 代入上面的式子：\n",
    "\n",
    "$$\n",
    "\\begin{aligned}\n",
    "&\\frac{N_1}{\\lambda} + \\frac{N_2}{\\lambda} + ... + \\frac{N_k}{\\lambda} = 1\\\\ \\\\\n",
    "=>&\\frac{N}{\\lambda} = 1 \\\\\\\\\n",
    "=>&N=-\\lambda\n",
    "\\end{aligned}\n",
    "$$\n",
    "\n",
    "6. 最后得：$P(Y=c_k) = \\theta_k = \\frac{N_k}{N}$"
   ]
  },
  {
   "cell_type": "code",
   "execution_count": 1,
   "metadata": {},
   "outputs": [],
   "source": [
    "from sklearn.naive_bayes import MultinomialNB as sknb\n",
    "from naive_bayes import MultinomialNB as mynb"
   ]
  },
  {
   "cell_type": "code",
   "execution_count": 2,
   "metadata": {},
   "outputs": [],
   "source": [
    "X = [\n",
    "    [1, 0], [1, 1], [1, 1], [1, 0], [1, 0],\n",
    "    [2, 0], [2, 1], [2, 1], [2, 2], [2, 2],\n",
    "    [3, 2], [3, 1], [3, 1], [3, 2], [3, 2]\n",
    "]\n",
    "\n",
    "y = [-1, -1, 1, 1, -1, -1, -1, 1, 1, 1, 1, 1, 1, 1, -1]"
   ]
  },
  {
   "cell_type": "code",
   "execution_count": 3,
   "metadata": {},
   "outputs": [
    {
     "name": "stdout",
     "output_type": "stream",
     "text": [
      "Wall time: 0 ns\n"
     ]
    },
    {
     "data": {
      "text/plain": [
       "array([1, 1, 1, 1, 1])"
      ]
     },
     "execution_count": 3,
     "metadata": {},
     "output_type": "execute_result"
    }
   ],
   "source": [
    "%time\n",
    "nb1 = sknb()\n",
    "nb1.fit(X, y)\n",
    "nb1.predict(X[2:7])"
   ]
  },
  {
   "cell_type": "code",
   "execution_count": 4,
   "metadata": {
    "scrolled": false
   },
   "outputs": [
    {
     "name": "stdout",
     "output_type": "stream",
     "text": [
      "Wall time: 0 ns\n"
     ]
    },
    {
     "data": {
      "text/plain": [
       "[1, -1, -1, -1, 1]"
      ]
     },
     "execution_count": 4,
     "metadata": {},
     "output_type": "execute_result"
    }
   ],
   "source": [
    "%time\n",
    "nb2 = mynb()\n",
    "nb2.fit(X, y)\n",
    "nb2.predict(X[2:7])"
   ]
  }
 ],
 "metadata": {
  "kernelspec": {
   "display_name": "Python 3",
   "language": "python",
   "name": "python3"
  },
  "language_info": {
   "codemirror_mode": {
    "name": "ipython",
    "version": 3
   },
   "file_extension": ".py",
   "mimetype": "text/x-python",
   "name": "python",
   "nbconvert_exporter": "python",
   "pygments_lexer": "ipython3",
   "version": "3.6.8"
  }
 },
 "nbformat": 4,
 "nbformat_minor": 2
}
