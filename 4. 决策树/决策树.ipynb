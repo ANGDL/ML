{
 "cells": [
  {
   "cell_type": "markdown",
   "metadata": {},
   "source": [
    "## 特征选择\n",
    "特征选择决定了用哪个特征划分特征空间，也就是在哪个维度划分数据。\n",
    "\n",
    "特征选择使用信息增益作为衡量标准。\n",
    "$$g(D, A) = H(D) - H(D|A)$$\n",
    "\n",
    "表示：由于特征A而使得数据集D的分类不确定度的减少程度。"
   ]
  },
  {
   "cell_type": "code",
   "execution_count": 1,
   "metadata": {},
   "outputs": [],
   "source": [
    "import numpy as np"
   ]
  },
  {
   "cell_type": "code",
   "execution_count": 2,
   "metadata": {},
   "outputs": [],
   "source": [
    "# 例5.1\n",
    "D = np.array([\n",
    "    [0, 0, 0, 0, 0],\n",
    "    [0, 0, 0, 1, 0],\n",
    "    [0, 1, 0, 1, 1],\n",
    "    [0, 1, 1, 0, 1],\n",
    "    [0, 0, 0, 0, 0],\n",
    "    [1, 0, 0, 0, 0],\n",
    "    [1, 0, 0, 1, 0],\n",
    "    [1, 1, 1, 1, 1],\n",
    "    [1, 0, 1, 2, 1],\n",
    "    [1, 0, 1, 2, 1],\n",
    "    [2, 0, 1, 2, 1],\n",
    "    [2, 0, 1, 1, 1],\n",
    "    [2, 1, 0, 1, 1],\n",
    "    [2, 1, 0, 2, 1],\n",
    "    [2, 0, 0, 0, 0],\n",
    "])"
   ]
  },
  {
   "cell_type": "code",
   "execution_count": 3,
   "metadata": {},
   "outputs": [],
   "source": [
    "X = D[:, :-1]\n",
    "y = D[:, -1]"
   ]
  },
  {
   "cell_type": "code",
   "execution_count": 4,
   "metadata": {},
   "outputs": [
    {
     "data": {
      "text/plain": [
       "array([[0, 0, 0, 0],\n",
       "       [0, 0, 0, 1],\n",
       "       [0, 1, 0, 1],\n",
       "       [0, 1, 1, 0],\n",
       "       [0, 0, 0, 0],\n",
       "       [1, 0, 0, 0],\n",
       "       [1, 0, 0, 1],\n",
       "       [1, 1, 1, 1],\n",
       "       [1, 0, 1, 2],\n",
       "       [1, 0, 1, 2],\n",
       "       [2, 0, 1, 2],\n",
       "       [2, 0, 1, 1],\n",
       "       [2, 1, 0, 1],\n",
       "       [2, 1, 0, 2],\n",
       "       [2, 0, 0, 0]])"
      ]
     },
     "execution_count": 4,
     "metadata": {},
     "output_type": "execute_result"
    }
   ],
   "source": [
    "X"
   ]
  },
  {
   "cell_type": "code",
   "execution_count": 5,
   "metadata": {},
   "outputs": [
    {
     "data": {
      "text/plain": [
       "array([0, 0, 1, 1, 0, 0, 0, 1, 1, 1, 1, 1, 1, 1, 0])"
      ]
     },
     "execution_count": 5,
     "metadata": {},
     "output_type": "execute_result"
    }
   ],
   "source": [
    "y"
   ]
  },
  {
   "cell_type": "code",
   "execution_count": 6,
   "metadata": {},
   "outputs": [
    {
     "data": {
      "text/plain": [
       "Counter({0: 6, 1: 9})"
      ]
     },
     "execution_count": 6,
     "metadata": {},
     "output_type": "execute_result"
    }
   ],
   "source": [
    "from collections import Counter\n",
    "y_conter = Counter(y)\n",
    "y_conter"
   ]
  },
  {
   "cell_type": "code",
   "execution_count": 7,
   "metadata": {},
   "outputs": [
    {
     "data": {
      "text/plain": [
       "1"
      ]
     },
     "execution_count": 7,
     "metadata": {},
     "output_type": "execute_result"
    }
   ],
   "source": [
    "y_conter.most_common(1)[0][0]"
   ]
  },
  {
   "cell_type": "code",
   "execution_count": 8,
   "metadata": {},
   "outputs": [
    {
     "data": {
      "text/plain": [
       "dict_values([6, 9])"
      ]
     },
     "execution_count": 8,
     "metadata": {},
     "output_type": "execute_result"
    }
   ],
   "source": [
    "y_conter.values()"
   ]
  },
  {
   "cell_type": "code",
   "execution_count": 9,
   "metadata": {},
   "outputs": [],
   "source": [
    "from collections import Counter\n",
    "def cal_empirical_entropy(y):\n",
    "    '''计算经验熵'''\n",
    "    ret = 0.0\n",
    "    y_counter = Counter(y)\n",
    "    # v : |C_k|\n",
    "    # len(y): |D|\n",
    "    for v in y_counter.values():          \n",
    "        ret += (v / len(y)) * np.log2(v / len(y))\n",
    "    \n",
    "    return -ret"
   ]
  },
  {
   "cell_type": "code",
   "execution_count": 10,
   "metadata": {},
   "outputs": [
    {
     "data": {
      "text/plain": [
       "0.9709505944546686"
      ]
     },
     "execution_count": 10,
     "metadata": {},
     "output_type": "execute_result"
    }
   ],
   "source": [
    "cal_empirical_entropy(y)"
   ]
  },
  {
   "cell_type": "code",
   "execution_count": 11,
   "metadata": {},
   "outputs": [
    {
     "data": {
      "text/plain": [
       "array([0, 0, 1, 1, 0])"
      ]
     },
     "execution_count": 11,
     "metadata": {},
     "output_type": "execute_result"
    }
   ],
   "source": [
    "y[X[:, 0] == 0]"
   ]
  },
  {
   "cell_type": "code",
   "execution_count": 12,
   "metadata": {},
   "outputs": [],
   "source": [
    "def cal_conditional_entropy(X, y, dim, cal_empirical_entropy_=None):\n",
    "    '''计算条件熵'''\n",
    "    ret = 0.0\n",
    "    x_counter = Counter(X[:, dim])\n",
    "    # x_i: X的第dim个维度的第i个特征值\n",
    "    # x_c: x_i的统计结果\n",
    "    if cal_empirical_entropy_ is not None:\n",
    "        for x_i, x_c in zip(x_counter.keys(), x_counter.values()):\n",
    "            y_k = y[X[:, dim] == x_i]\n",
    "            ret += (x_c / len(y)) * cal_empirical_entropy_(y_k)\n",
    "    else:\n",
    "        for x_c in x_counter.values():\n",
    "            ret -= (x_c / len(y)) * np.log2(x_c / len(y))\n",
    "            \n",
    "    return ret"
   ]
  },
  {
   "cell_type": "code",
   "execution_count": 13,
   "metadata": {
    "scrolled": true
   },
   "outputs": [
    {
     "data": {
      "text/plain": [
       "1.584962500721156"
      ]
     },
     "execution_count": 13,
     "metadata": {},
     "output_type": "execute_result"
    }
   ],
   "source": [
    "cal_conditional_entropy(X, y, 0)"
   ]
  },
  {
   "cell_type": "code",
   "execution_count": 14,
   "metadata": {},
   "outputs": [],
   "source": [
    "def cal_information_gan(X, y, dim):\n",
    "    '''计算信息增益'''\n",
    "    return cal_empirical_entropy(y) - cal_conditional_entropy(X, y, dim, cal_empirical_entropy)"
   ]
  },
  {
   "cell_type": "code",
   "execution_count": 15,
   "metadata": {},
   "outputs": [],
   "source": [
    "def cal_information_gan_ratio(X, y, dim):\n",
    "    gan = cal_information_gan(X, y, dim)\n",
    "    h = cal_conditional_entropy(X, y, dim)\n",
    "\n",
    "    # 处理 h == 0\n",
    "    if abs(h) < 1e-9:\n",
    "        return 0\n",
    "    return gan / h"
   ]
  },
  {
   "cell_type": "code",
   "execution_count": 16,
   "metadata": {},
   "outputs": [
    {
     "data": {
      "text/plain": [
       "0.08300749985576883"
      ]
     },
     "execution_count": 16,
     "metadata": {},
     "output_type": "execute_result"
    }
   ],
   "source": [
    "cal_information_gan(X, y, 0)"
   ]
  },
  {
   "cell_type": "code",
   "execution_count": 17,
   "metadata": {},
   "outputs": [
    {
     "data": {
      "text/plain": [
       "0.32365019815155627"
      ]
     },
     "execution_count": 17,
     "metadata": {},
     "output_type": "execute_result"
    }
   ],
   "source": [
    "cal_information_gan(X, y, 1)"
   ]
  },
  {
   "cell_type": "code",
   "execution_count": 18,
   "metadata": {},
   "outputs": [
    {
     "data": {
      "text/plain": [
       "0.4199730940219749"
      ]
     },
     "execution_count": 18,
     "metadata": {},
     "output_type": "execute_result"
    }
   ],
   "source": [
    "cal_information_gan(X, y, 2)"
   ]
  },
  {
   "cell_type": "code",
   "execution_count": 19,
   "metadata": {},
   "outputs": [
    {
     "data": {
      "text/plain": [
       "0.36298956253708536"
      ]
     },
     "execution_count": 19,
     "metadata": {},
     "output_type": "execute_result"
    }
   ],
   "source": [
    "cal_information_gan(X, y, 3)"
   ]
  },
  {
   "cell_type": "markdown",
   "metadata": {},
   "source": [
    "## 决策树的生成\n",
    "\n",
    "由于C4.5和ID3过程一致，所以采用C4.5算法，使用信息增益比实现，避免直接使用信息增益划分训练集时，偏向选择取值较多的特征的问题"
   ]
  },
  {
   "cell_type": "code",
   "execution_count": 20,
   "metadata": {},
   "outputs": [],
   "source": [
    "class Tree:\n",
    "    def __init__(self):\n",
    "        self.sub = {}\n",
    "        self.leaf = None\n",
    "        self.condition = lambda x_i: x_i\n",
    "\n",
    "    def __repr__(self):\n",
    "        s = 'sub_node: {}, leaf:{}'.format(str(list(self.sub.keys())), self.leaf)\n",
    "        return s"
   ]
  },
  {
   "cell_type": "code",
   "execution_count": 21,
   "metadata": {},
   "outputs": [],
   "source": [
    "def build_tree(X, y, epsilon):\n",
    "    assert len(X) == len(y), \"X and y len error\"\n",
    "    \n",
    "    node = Tree()  # 创建树的根节点\n",
    "    y_counter = Counter(y)  # 对 label做一个统计\n",
    "    \n",
    "    # 1. 判断所有实例是否属于同一类， 设置node为点节点数\n",
    "    # 2. 特征集是否是空集， 设置node为点节点数\n",
    "    if len(y_counter) == 1 or len(X) == 0:\n",
    "        node.leaf = y_counter.most_common(1)[0][0]\n",
    "    \n",
    "    else:\n",
    "        # 3. 计算各个维度的信息增益比，找到最好的划分维度\n",
    "        best_ratio = float('-inf')\n",
    "        best_dim = None\n",
    "        for dim in range(X.shape[-1]):\n",
    "            \n",
    "            gan_ratio = cal_information_gan_ratio(X, y, dim)\n",
    "            if gan_ratio > best_ratio:\n",
    "                best_ratio = gan_ratio\n",
    "                best_dim = dim\n",
    "                \n",
    "        # 4. 如果best_ratio 小于ε， 设置T为点节点数\n",
    "        if best_ratio < epsilon:\n",
    "            node.leaf = y_counter.most_common(1)[0][0]\n",
    "        else:\n",
    "            x_counter = Counter(X[:, best_dim])\n",
    "        \n",
    "        # 5. 对best_dim下的每个特征值，将D划分为子空间，并构建子节点\n",
    "            for x_i in x_counter:\n",
    "                sub_X = X[X[:, best_dim] == x_i]\n",
    "                sub_y = y[X[:, best_dim] == x_i]\n",
    "                index = node.condition(x_i)\n",
    "                node.sub[index] = build_tree(sub_X, sub_y, epsilon)\n",
    "    \n",
    "    return node"
   ]
  },
  {
   "cell_type": "code",
   "execution_count": 22,
   "metadata": {},
   "outputs": [],
   "source": [
    "t = build_tree(X, y, 1e-2)"
   ]
  },
  {
   "cell_type": "code",
   "execution_count": 23,
   "metadata": {},
   "outputs": [],
   "source": [
    "t.leaf"
   ]
  },
  {
   "cell_type": "code",
   "execution_count": 24,
   "metadata": {},
   "outputs": [
    {
     "data": {
      "text/plain": [
       "{0: sub_node: [0, 1], leaf:None, 1: sub_node: [], leaf:1}"
      ]
     },
     "execution_count": 24,
     "metadata": {},
     "output_type": "execute_result"
    }
   ],
   "source": [
    "t.sub"
   ]
  },
  {
   "cell_type": "code",
   "execution_count": 25,
   "metadata": {},
   "outputs": [
    {
     "data": {
      "text/plain": [
       "DecisionTreeClassifier(class_weight=None, criterion='gini', max_depth=None,\n",
       "            max_features=None, max_leaf_nodes=None,\n",
       "            min_impurity_decrease=0.0, min_impurity_split=None,\n",
       "            min_samples_leaf=1, min_samples_split=2,\n",
       "            min_weight_fraction_leaf=0.0, presort=False, random_state=None,\n",
       "            splitter='best')"
      ]
     },
     "execution_count": 25,
     "metadata": {},
     "output_type": "execute_result"
    }
   ],
   "source": [
    "from sklearn.tree import DecisionTreeClassifier\n",
    "\n",
    "dt_clf = DecisionTreeClassifier()\n",
    "dt_clf.fit(X, y)"
   ]
  },
  {
   "cell_type": "code",
   "execution_count": 28,
   "metadata": {},
   "outputs": [
    {
     "data": {
      "text/plain": [
       "array([0, 0, 1, 1, 0])"
      ]
     },
     "execution_count": 28,
     "metadata": {},
     "output_type": "execute_result"
    }
   ],
   "source": [
    "dt_clf.predict(X[:5])"
   ]
  },
  {
   "cell_type": "code",
   "execution_count": 30,
   "metadata": {},
   "outputs": [
    {
     "data": {
      "text/plain": [
       "array([9, 4])"
      ]
     },
     "execution_count": 30,
     "metadata": {},
     "output_type": "execute_result"
    }
   ],
   "source": [
    "a = np.array([3, 2])\n",
    "b = a\n",
    "a * b"
   ]
  }
 ],
 "metadata": {
  "kernelspec": {
   "display_name": "Python 3",
   "language": "python",
   "name": "python3"
  },
  "language_info": {
   "codemirror_mode": {
    "name": "ipython",
    "version": 3
   },
   "file_extension": ".py",
   "mimetype": "text/x-python",
   "name": "python",
   "nbconvert_exporter": "python",
   "pygments_lexer": "ipython3",
   "version": "3.6.8"
  }
 },
 "nbformat": 4,
 "nbformat_minor": 2
}
