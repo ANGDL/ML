{
 "cells": [
  {
   "cell_type": "markdown",
   "metadata": {},
   "source": [
    "## 特征选择\n",
    "特征选择决定了用哪个特征划分特征空间，也就是在哪个维度划分数据。\n",
    "\n",
    "特征选择使用信息增益作为衡量标准。\n",
    "$$g(D, A) = H(D) - H(D|A)$$\n",
    "\n",
    "表示：由于特征A而使得数据集D的分类不确定度的减少程度。"
   ]
  },
  {
   "cell_type": "code",
   "execution_count": 1,
   "metadata": {},
   "outputs": [],
   "source": [
    "import numpy as np"
   ]
  },
  {
   "cell_type": "code",
   "execution_count": 37,
   "metadata": {},
   "outputs": [],
   "source": [
    "# 例5.1\n",
    "    D = np.array([['青年', '否', '否', '一般', '否'],\n",
    "                  ['青年', '否', '否', '好', '否'],\n",
    "                  ['青年', '是', '否', '好', '是'],\n",
    "                  ['青年', '是', '是', '一般', '是'],\n",
    "                  ['青年', '否', '否', '一般', '否'],\n",
    "                  ['中年', '否', '否', '一般', '否'],\n",
    "                  ['中年', '否', '否', '好', '否'],\n",
    "                  ['中年', '是', '是', '好', '是'],\n",
    "                  ['中年', '否', '是', '非常好', '是'],\n",
    "                  ['中年', '否', '是', '非常好', '是'],\n",
    "                  ['老年', '否', '是', '非常好', '是'],\n",
    "                  ['老年', '否', '是', '好', '是'],\n",
    "                  ['老年', '是', '否', '好', '是'],\n",
    "                  ['老年', '是', '否', '非常好', '是'],\n",
    "                  ['老年', '否', '否', '一般', '否'],\n",
    "                  ['青年', '否', '否', '一般', '是']])"
   ]
  },
  {
   "cell_type": "code",
   "execution_count": 38,
   "metadata": {},
   "outputs": [],
   "source": [
    "X = D[:, :-1]\n",
    "y = D[:, -1]"
   ]
  },
  {
   "cell_type": "code",
   "execution_count": 39,
   "metadata": {},
   "outputs": [
    {
     "data": {
      "text/plain": [
       "array([['青年', '否', '否', '一般'],\n",
       "       ['青年', '否', '否', '好'],\n",
       "       ['青年', '是', '否', '好'],\n",
       "       ['青年', '是', '是', '一般'],\n",
       "       ['青年', '否', '否', '一般'],\n",
       "       ['中年', '否', '否', '一般'],\n",
       "       ['中年', '否', '否', '好'],\n",
       "       ['中年', '是', '是', '好'],\n",
       "       ['中年', '否', '是', '非常好'],\n",
       "       ['中年', '否', '是', '非常好'],\n",
       "       ['老年', '否', '是', '非常好'],\n",
       "       ['老年', '否', '是', '好'],\n",
       "       ['老年', '是', '否', '好'],\n",
       "       ['老年', '是', '否', '非常好'],\n",
       "       ['老年', '否', '否', '一般'],\n",
       "       ['青年', '否', '否', '一般']], dtype='<U3')"
      ]
     },
     "execution_count": 39,
     "metadata": {},
     "output_type": "execute_result"
    }
   ],
   "source": [
    "X"
   ]
  },
  {
   "cell_type": "code",
   "execution_count": 40,
   "metadata": {},
   "outputs": [
    {
     "data": {
      "text/plain": [
       "array(['否', '否', '是', '是', '否', '否', '否', '是', '是', '是', '是', '是', '是',\n",
       "       '是', '否', '是'], dtype='<U3')"
      ]
     },
     "execution_count": 40,
     "metadata": {},
     "output_type": "execute_result"
    }
   ],
   "source": [
    "y"
   ]
  },
  {
   "cell_type": "code",
   "execution_count": 41,
   "metadata": {},
   "outputs": [
    {
     "data": {
      "text/plain": [
       "Counter({'否': 6, '是': 10})"
      ]
     },
     "execution_count": 41,
     "metadata": {},
     "output_type": "execute_result"
    }
   ],
   "source": [
    "from collections import Counter\n",
    "y_conter = Counter(y)\n",
    "y_conter"
   ]
  },
  {
   "cell_type": "code",
   "execution_count": 42,
   "metadata": {},
   "outputs": [
    {
     "data": {
      "text/plain": [
       "'是'"
      ]
     },
     "execution_count": 42,
     "metadata": {},
     "output_type": "execute_result"
    }
   ],
   "source": [
    "y_conter.most_common(1)[0][0]"
   ]
  },
  {
   "cell_type": "code",
   "execution_count": 43,
   "metadata": {},
   "outputs": [
    {
     "data": {
      "text/plain": [
       "dict_values([6, 10])"
      ]
     },
     "execution_count": 43,
     "metadata": {},
     "output_type": "execute_result"
    }
   ],
   "source": [
    "y_conter.values()"
   ]
  },
  {
   "cell_type": "code",
   "execution_count": 44,
   "metadata": {},
   "outputs": [],
   "source": [
    "from collections import Counter\n",
    "def cal_empirical_entropy(y):\n",
    "    '''计算经验熵'''\n",
    "    ret = 0.0\n",
    "    y_counter = Counter(y)\n",
    "    # v : |C_k|\n",
    "    # len(y): |D|\n",
    "    for v in y_counter.values():          \n",
    "        ret += (v / len(y)) * np.log2(v / len(y))\n",
    "    \n",
    "    return -ret"
   ]
  },
  {
   "cell_type": "code",
   "execution_count": 45,
   "metadata": {},
   "outputs": [
    {
     "data": {
      "text/plain": [
       "0.954434002924965"
      ]
     },
     "execution_count": 45,
     "metadata": {},
     "output_type": "execute_result"
    }
   ],
   "source": [
    "cal_empirical_entropy(y)"
   ]
  },
  {
   "cell_type": "code",
   "execution_count": 47,
   "metadata": {},
   "outputs": [],
   "source": [
    "def cal_conditional_entropy(X, y, dim, cal_empirical_entropy_=None):\n",
    "    '''计算条件熵'''\n",
    "    ret = 0.0\n",
    "    x_counter = Counter(X[:, dim])\n",
    "    # x_i: X的第dim个维度的第i个特征值\n",
    "    # x_c: x_i的统计结果\n",
    "    if cal_empirical_entropy_ is not None:\n",
    "        for x_i, x_c in zip(x_counter.keys(), x_counter.values()):\n",
    "            y_k = y[X[:, dim] == x_i]\n",
    "            ret += (x_c / len(y)) * cal_empirical_entropy_(y_k)\n",
    "    else:\n",
    "        for x_c in x_counter.values():\n",
    "            ret -= (x_c / len(y)) * np.log2(x_c / len(y))\n",
    "            \n",
    "    return ret"
   ]
  },
  {
   "cell_type": "code",
   "execution_count": 48,
   "metadata": {
    "scrolled": true
   },
   "outputs": [
    {
     "data": {
      "text/plain": [
       "1.579434002924965"
      ]
     },
     "execution_count": 48,
     "metadata": {},
     "output_type": "execute_result"
    }
   ],
   "source": [
    "cal_conditional_entropy(X, y, 0)"
   ]
  },
  {
   "cell_type": "code",
   "execution_count": 49,
   "metadata": {},
   "outputs": [],
   "source": [
    "def cal_information_gan(X, y, dim):\n",
    "    '''计算信息增益'''\n",
    "    return cal_empirical_entropy(y) - cal_conditional_entropy(X, y, dim, cal_empirical_entropy)"
   ]
  },
  {
   "cell_type": "code",
   "execution_count": 50,
   "metadata": {},
   "outputs": [],
   "source": [
    "def cal_information_gan_ratio(X, y, dim):\n",
    "    gan = cal_information_gan(X, y, dim)\n",
    "    h = cal_conditional_entropy(X, y, dim)\n",
    "\n",
    "    # 处理 h == 0\n",
    "    if abs(h) < 1e-9:\n",
    "        return 0\n",
    "    return gan / h"
   ]
  },
  {
   "cell_type": "code",
   "execution_count": 51,
   "metadata": {},
   "outputs": [
    {
     "data": {
      "text/plain": [
       "0.0504094125055804"
      ]
     },
     "execution_count": 51,
     "metadata": {},
     "output_type": "execute_result"
    }
   ],
   "source": [
    "cal_information_gan(X, y, 0)"
   ]
  },
  {
   "cell_type": "code",
   "execution_count": 52,
   "metadata": {},
   "outputs": [
    {
     "data": {
      "text/plain": [
       "0.2710382325345575"
      ]
     },
     "execution_count": 52,
     "metadata": {},
     "output_type": "execute_result"
    }
   ],
   "source": [
    "cal_information_gan(X, y, 1)"
   ]
  },
  {
   "cell_type": "code",
   "execution_count": 53,
   "metadata": {},
   "outputs": [
    {
     "data": {
      "text/plain": [
       "0.34758988139079716"
      ]
     },
     "execution_count": 53,
     "metadata": {},
     "output_type": "execute_result"
    }
   ],
   "source": [
    "cal_information_gan(X, y, 2)"
   ]
  },
  {
   "cell_type": "code",
   "execution_count": 54,
   "metadata": {},
   "outputs": [
    {
     "data": {
      "text/plain": [
       "0.2657121273840979"
      ]
     },
     "execution_count": 54,
     "metadata": {},
     "output_type": "execute_result"
    }
   ],
   "source": [
    "cal_information_gan(X, y, 3)"
   ]
  },
  {
   "cell_type": "markdown",
   "metadata": {},
   "source": [
    "## 决策树的生成\n",
    "\n",
    "由于C4.5和ID3过程一致，所以采用C4.5算法，使用信息增益比实现，避免直接使用信息增益划分训练集时，偏向选择取值较多的特征的问题"
   ]
  },
  {
   "cell_type": "code",
   "execution_count": 55,
   "metadata": {},
   "outputs": [],
   "source": [
    "class Node:\n",
    "    def __init__(self):\n",
    "        self.sub = {}  # 子树\n",
    "        self.leaf = None  # 叶节点，最终的预测类别\n",
    "        self.condition = lambda x_i: x_i  # 子树的方向\n",
    "        self.sample_classes = []  # 该节点包含的样本类别\n",
    "        self.split_dim = None  # 划分维度"
   ]
  },
  {
   "cell_type": "code",
   "execution_count": 56,
   "metadata": {},
   "outputs": [],
   "source": [
    "n_leaf = 0 # 记录一下一共有多少叶节点"
   ]
  },
  {
   "cell_type": "code",
   "execution_count": 57,
   "metadata": {},
   "outputs": [],
   "source": [
    "def build_tree(X, y, epsilon):\n",
    "    global n_leaf\n",
    "    assert len(X) == len(y), \"X and y len error\"\n",
    "\n",
    "    node = Node()  # 创建树的根节点\n",
    "    node.sample_classes = y  # 对样本类别做一个保存\n",
    "    y_counter = Counter(y)  # 对 label做一个统计\n",
    "\n",
    "    # 1. 判断所有实例是否属于同一类， 设置node为点节点数\n",
    "    # 2. 特征集是否是空集， 设置node为点节点数\n",
    "    if len(y_counter) == 1 or len(X) == 0:\n",
    "        node.leaf = y_counter.most_common(1)[0][0]\n",
    "        n_leaf += 1\n",
    "    else:\n",
    "        # 3. 计算各个维度的信息增益比，找到最好的划分维度\n",
    "        best_ratio = float('-inf')\n",
    "        best_dim = None\n",
    "        for dim in range(X.shape[-1]):\n",
    "\n",
    "            gan_ratio = cal_information_gan_ratio(X, y, dim)\n",
    "            if gan_ratio > best_ratio:\n",
    "                best_ratio = gan_ratio\n",
    "                best_dim = dim\n",
    "\n",
    "        node.split_dim = best_dim\n",
    "\n",
    "        # 4. 如果best_ratio 小于ε， 设置T为点节点数\n",
    "        if best_ratio < epsilon:\n",
    "            node.leaf = y_counter.most_common(1)[0][0]\n",
    "            n_leaf += 1\n",
    "        else:\n",
    "            x_counter = Counter(X[:, best_dim])\n",
    "\n",
    "            # 5. 对best_dim下的每个特征值，将D划分为子空间，并构建子节点\n",
    "            for x_i in x_counter:\n",
    "                sub_X = X[X[:, best_dim] == x_i]\n",
    "                sub_y = y[X[:, best_dim] == x_i]\n",
    "                index = node.condition(x_i)\n",
    "                node.sub[index] = build_tree(sub_X, sub_y, epsilon)\n",
    "\n",
    "    return node"
   ]
  },
  {
   "cell_type": "code",
   "execution_count": 58,
   "metadata": {},
   "outputs": [],
   "source": [
    "t = build_tree(X, y, 1e-2)"
   ]
  },
  {
   "cell_type": "code",
   "execution_count": 59,
   "metadata": {},
   "outputs": [],
   "source": [
    "t.leaf"
   ]
  },
  {
   "cell_type": "code",
   "execution_count": 60,
   "metadata": {},
   "outputs": [
    {
     "data": {
      "text/plain": [
       "{'否': <__main__.Node at 0x1d7c20bec50>, '是': <__main__.Node at 0x1d7c215b240>}"
      ]
     },
     "execution_count": 60,
     "metadata": {},
     "output_type": "execute_result"
    }
   ],
   "source": [
    "t.sub"
   ]
  },
  {
   "cell_type": "code",
   "execution_count": 61,
   "metadata": {
    "scrolled": false
   },
   "outputs": [
    {
     "data": {
      "text/plain": [
       "6"
      ]
     },
     "execution_count": 61,
     "metadata": {},
     "output_type": "execute_result"
    }
   ],
   "source": [
    "n_leaf"
   ]
  },
  {
   "cell_type": "markdown",
   "metadata": {},
   "source": [
    "## 决策树的剪枝"
   ]
  },
  {
   "cell_type": "code",
   "execution_count": 75,
   "metadata": {},
   "outputs": [],
   "source": [
    "def loss_function(samples_n, entropy, alpha, diff_leaf):\n",
    "    global n_leaf\n",
    "    return np.sum(np.array(samples_n) * np.array(entropy)) + alpha * (n_leaf - diff_leaf)"
   ]
  },
  {
   "cell_type": "code",
   "execution_count": 74,
   "metadata": {},
   "outputs": [],
   "source": [
    "def pruning_tree(node, alpha):\n",
    "    global n_leaf\n",
    "    # 计算节点熵\n",
    "    entropy = cal_empirical_entropy(node.sample_classes)\n",
    "    # 该节点是叶节点\n",
    "    if node.leaf is not None:\n",
    "        return 1, entropy, node.leaf\n",
    "    # 否则遍历子节点\n",
    "    else:\n",
    "        n_sub_samples = 0  # 子节点的个数\n",
    "        n_sub_sample_classes = []  # 子节点的样本的类别\n",
    "        sub_node_entropy = []  # 子节点的先验熵\n",
    "        sub_leaf_class = []  # 子节点叶子的存放的类别\n",
    "        for index in node.sub:\n",
    "            sub_node = node.sub[index]\n",
    "            i, e, l = pruning_tree(sub_node, alpha)\n",
    "            n_sub_samples += i\n",
    "            n_sub_sample_classes.append(len(sub_node.sample_classes))\n",
    "            sub_node_entropy.append(e)\n",
    "            sub_leaf_class.append(l)\n",
    "\n",
    "        # 找到一组叶节点\n",
    "        if n_sub_samples == len(node.sub):\n",
    "            # 比较损失函数\n",
    "            b_loss = loss_function(n_sub_sample_classes, sub_node_entropy, alpha, 0)\n",
    "            a_loss = loss_function(len(node.sample_classes), entropy, alpha, n_sub_samples)\n",
    "            if a_loss < b_loss:\n",
    "                c = Counter(sub_leaf_class)\n",
    "                node.sub.clear()  # 清理子树\n",
    "                node.leaf = c.most_common(1)[0][0]  # 设置叶节点\n",
    "                n_leaf -= (n_sub_samples - 1)  # 叶子的数量减少 子节点的个数 + 1 个\n",
    "\n",
    "                return 1, entropy, node.leaf\n",
    "\n",
    "        return 0, entropy, node.leaf"
   ]
  },
  {
   "cell_type": "code",
   "execution_count": 76,
   "metadata": {
    "scrolled": true
   },
   "outputs": [
    {
     "data": {
      "text/plain": [
       "(0, 0.954434002924965, None)"
      ]
     },
     "execution_count": 76,
     "metadata": {},
     "output_type": "execute_result"
    }
   ],
   "source": [
    "pruning_tree(t, 0.5)"
   ]
  },
  {
   "cell_type": "code",
   "execution_count": 77,
   "metadata": {},
   "outputs": [
    {
     "data": {
      "text/plain": [
       "4"
      ]
     },
     "execution_count": 77,
     "metadata": {},
     "output_type": "execute_result"
    }
   ],
   "source": [
    "n_leaf"
   ]
  },
  {
   "cell_type": "markdown",
   "metadata": {},
   "source": [
    "**以上算法实现未考虑离连续特征的处理**"
   ]
  },
  {
   "cell_type": "markdown",
   "metadata": {},
   "source": [
    "## CRAT\n",
    "### 回归树"
   ]
  },
  {
   "cell_type": "code",
   "execution_count": 79,
   "metadata": {},
   "outputs": [
    {
     "name": "stdout",
     "output_type": "stream",
     "text": [
      "28.254758606067107\n",
      "29.481417322834645\n"
     ]
    }
   ],
   "source": [
    "from cart import CartRegression\n",
    "from sklearn import datasets\n",
    "from sklearn.model_selection import train_test_split\n",
    "from sklearn.metrics import mean_squared_error\n",
    "from sklearn.tree import DecisionTreeRegressor\n",
    "\n",
    "boston = datasets.load_boston()\n",
    "X = boston.data\n",
    "y = boston.target\n",
    "X_train, X_test, y_train, y_test = train_test_split(X, y, random_state=666)\n",
    "dt_reg = CartRegression(min_samples_leaf=3)\n",
    "dt_reg.fit(X_train, y_train)\n",
    "y_pred = dt_reg.predict(X_test)\n",
    "print(mean_squared_error(y_test, y_pred))\n",
    "\n",
    "dt_reg_2 = DecisionTreeRegressor()\n",
    "dt_reg_2.fit(X_train, y_train)\n",
    "y_pred_2 = dt_reg_2.predict(X_test)\n",
    "print(mean_squared_error(y_test, y_pred_2))"
   ]
  },
  {
   "cell_type": "markdown",
   "metadata": {},
   "source": [
    "### 分类树"
   ]
  },
  {
   "cell_type": "code",
   "execution_count": 81,
   "metadata": {},
   "outputs": [
    {
     "name": "stderr",
     "output_type": "stream",
     "text": [
      "C:\\Users\\ANG\\AppData\\Local\\conda\\conda\\envs\\ml\\lib\\site-packages\\matplotlib\\contour.py:1000: UserWarning: The following kwargs were not used by contour: 'linewidth'\n",
      "  s)\n"
     ]
    },
    {
     "data": {
      "image/png": "[encoded data removed]",
      "text/plain": [
       "<Figure size 432x288 with 1 Axes>"
      ]
     },
     "metadata": {
      "needs_background": "light"
     },
     "output_type": "display_data"
    }
   ],
   "source": [
    "from cart import CartClassifier, plot_decision_boundary\n",
    "import matplotlib.pyplot as plt\n",
    "%matplotlib inline\n",
    "\n",
    "X, y = datasets.make_moons(noise=0.25, random_state=666)\n",
    "dt_clf = CartClassifier()\n",
    "dt_clf.fit(X, y)\n",
    "\n",
    "plot_decision_boundary(dt_clf, axis=[-1.5, 2.5, -1.0, 1.5])\n",
    "plt.scatter(X[y == 0, 0], X[y == 0, 1])\n",
    "plt.scatter(X[y == 1, 0], X[y == 1, 1])\n",
    "plt.show()"
   ]
  }
 ],
 "metadata": {
  "kernelspec": {
   "display_name": "Python 3",
   "language": "python",
   "name": "python3"
  },
  "language_info": {
   "codemirror_mode": {
    "name": "ipython",
    "version": 3
   },
   "file_extension": ".py",
   "mimetype": "text/x-python",
   "name": "python",
   "nbconvert_exporter": "python",
   "pygments_lexer": "ipython3",
   "version": "3.6.8"
  }
 },
 "nbformat": 4,
 "nbformat_minor": 2
}
