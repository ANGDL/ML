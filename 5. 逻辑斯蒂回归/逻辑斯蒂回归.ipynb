{
 "cells": [
  {
   "cell_type": "markdown",
   "metadata": {},
   "source": [
    "## 二项逻辑回归的损失函数的求导\n",
    "\n",
    "根据最大似然函数得到损失函数为$$L = -\\frac{1}{N} \\sum\\limits_{i=1}^{N}[y_i log\\pi(w \\cdot x_i) + (1-y_i)log(1-\\pi((w \\cdot x_i))]$$\n",
    "\n",
    "$\\pi(w \\cdot x_i)$是在$x_i$条件下$Y=1$的概率，即$P(Y=1|x_i)$，这里为了和书里对应，写成$\\pi(w \\cdot x_i)$,其实就是经过sigmod函数求得的概率$sigmod(w \\cdot x_i)$\n",
    "\n",
    "对每个样本\n",
    "$$ loss=\\left\\{\n",
    "\\begin{aligned}\n",
    "&-log(\\pi(w \\cdot x_i))& y_i=1\\\\\n",
    "&-log(1-\\pi(w \\cdot x_i))& y_i=0\n",
    "\\end{aligned}\n",
    "\\right.\n",
    "$$\n",
    "\n",
    "如果$y_i=1$且预测概率$\\pi(w \\cdot x_i)$为1，则损失为0，$y_i=0$且预测概率$\\pi(w \\cdot x_i)$为0，则损失为0。  \n",
    "如果$y_i=1$且预测概率$\\pi(w \\cdot x_i)$为0，则损失为正无穷大，$y_i=0$且预测概率$\\pi(w \\cdot x_i)$为1，则损失为正无穷大。\n",
    "\n",
    "L对w的偏导数的矩阵表示\n",
    "$$\\frac{\\partial L(w)}{\\partial w} = \\frac{1}{N} \\cdot X^T \\cdot(\\pi(Xw)-y)$$"
   ]
  },
  {
   "cell_type": "markdown",
   "metadata": {
    "collapsed": true
   },
   "source": [
    "## 多项逻辑斯蒂回归的模型参数估计\n",
    "\n",
    "从6.1.4的公式来看，书中对多项逻辑斯蒂回归的推广使用ovr的方式，根据每个类别，都建立一个二分类器，带有这个类别的样本标记为1，带有其他类别的样本标记为0。假如我们有k个类别，最后我们就得到了k个针对不同标记的普通的logistic二分类器。\n",
    "\n",
    "设N个样本中一共有K个类别，第k个类别的条件概率是：$P(Y=k|x) = \\pi(x)$，   \n",
    "则不是第k个类别的条件概率是$P(Y!=k|x) = 1-\\pi(x)$。   \n",
    "\n",
    "则针对第K个类别似然函数为：$$\\prod\\limits_{i=1}^{N}[\\pi(x_i)]^{I(y_i=y_k)}[1-\\pi(x_i)]^{1-I(y_i=y_k)}$$\n",
    "\n",
    "其中，$I$是指示函数，$I(y_i=y_k)$代表y_i是否是第k个类别。"
   ]
  },
  {
   "cell_type": "code",
   "execution_count": null,
   "metadata": {},
   "outputs": [],
   "source": []
  }
 ],
 "metadata": {
  "kernelspec": {
   "display_name": "Python 3",
   "language": "python",
   "name": "python3"
  },
  "language_info": {
   "codemirror_mode": {
    "name": "ipython",
    "version": 3
   },
   "file_extension": ".py",
   "mimetype": "text/x-python",
   "name": "python",
   "nbconvert_exporter": "python",
   "pygments_lexer": "ipython3",
   "version": "3.6.8"
  }
 },
 "nbformat": 4,
 "nbformat_minor": 1
}
